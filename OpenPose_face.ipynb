{
  "nbformat": 4,
  "nbformat_minor": 0,
  "metadata": {
    "colab": {
      "name": "OpenPose_face.ipynb",
      "provenance": [],
      "collapsed_sections": [],
      "include_colab_link": true
    },
    "kernelspec": {
      "name": "python3",
      "display_name": "Python 3"
    },
    "accelerator": "GPU"
  },
  "cells": [
    {
      "cell_type": "markdown",
      "metadata": {
        "id": "view-in-github",
        "colab_type": "text"
      },
      "source": [
        "<a href=\"https://colab.research.google.com/github/takky0330/face/blob/master/OpenPose_face.ipynb\" target=\"_parent\"><img src=\"https://colab.research.google.com/assets/colab-badge.svg\" alt=\"Open In Colab\"/></a>"
      ]
    },
    {
      "cell_type": "markdown",
      "metadata": {
        "id": "X38L6tanrnrB",
        "colab_type": "text"
      },
      "source": [
        "###OpenPose インストール"
      ]
    },
    {
      "cell_type": "code",
      "metadata": {
        "id": "eM9adV2kWi1i",
        "colab_type": "code",
        "colab": {}
      },
      "source": [
        "import os\n",
        "from os.path import exists, join, basename, splitext"
      ],
      "execution_count": null,
      "outputs": []
    },
    {
      "cell_type": "code",
      "metadata": {
        "id": "FOdkDhb6ga6N",
        "colab_type": "code",
        "colab": {}
      },
      "source": [
        "git_repo_url = 'https://github.com/CMU-Perceptual-Computing-Lab/openpose.git'\n",
        "project_name = splitext(basename(git_repo_url))[0]\n",
        "if not exists(project_name):\n",
        "  # see: https://github.com/CMU-Perceptual-Computing-Lab/openpose/issues/949\n",
        "  # install new CMake becaue of CUDA10\n",
        "  !wget -q https://cmake.org/files/v3.13/cmake-3.13.0-Linux-x86_64.tar.gz\n",
        "  !tar xfz cmake-3.13.0-Linux-x86_64.tar.gz --strip-components=1 -C /usr/local\n",
        "  # clone openpose\n",
        "  !git clone -q --depth 1 $git_repo_url\n",
        "  !sed -i 's/execute_process(COMMAND git checkout master WORKING_DIRECTORY ${CMAKE_SOURCE_DIR}\\/3rdparty\\/caffe)/execute_process(COMMAND git checkout f019d0dfe86f49d1140961f8c7dec22130c83154 WORKING_DIRECTORY ${CMAKE_SOURCE_DIR}\\/3rdparty\\/caffe)/g' openpose/CMakeLists.txt\n",
        "  # install system dependencies\n",
        "  !apt-get -qq install -y libatlas-base-dev libprotobuf-dev libleveldb-dev libsnappy-dev libhdf5-serial-dev protobuf-compiler libgflags-dev libgoogle-glog-dev liblmdb-dev opencl-headers ocl-icd-opencl-dev libviennacl-dev\n",
        "  # install python dependencies\n",
        "  !pip install -q youtube-dl\n",
        "  # build openpose\n",
        "  !cd openpose && rm -rf build || true && mkdir build && cd build && cmake .. && make -j`nproc`\n",
        "  \n",
        "from IPython.display import YouTubeVideo"
      ],
      "execution_count": null,
      "outputs": []
    },
    {
      "cell_type": "code",
      "metadata": {
        "id": "ggfCN-yndyq-",
        "colab_type": "code",
        "colab": {}
      },
      "source": [
        ""
      ],
      "execution_count": null,
      "outputs": []
    },
    {
      "cell_type": "markdown",
      "metadata": {
        "id": "NEFSQoI1RJOy",
        "colab_type": "text"
      },
      "source": [
        "###ファイルアップロード"
      ]
    },
    {
      "cell_type": "code",
      "metadata": {
        "id": "1mphtcBXvG_V",
        "colab_type": "code",
        "colab": {}
      },
      "source": [
        "import os"
      ],
      "execution_count": null,
      "outputs": []
    },
    {
      "cell_type": "code",
      "metadata": {
        "id": "5sfq-zCyW2Yc",
        "colab_type": "code",
        "colab": {}
      },
      "source": [
        "## 事前にアップロードファイルを削除する場合\n",
        "#os.remove('202599.zip')"
      ],
      "execution_count": null,
      "outputs": []
    },
    {
      "cell_type": "code",
      "metadata": {
        "id": "VJopAbKNRNhs",
        "colab_type": "code",
        "colab": {}
      },
      "source": [
        "## ローカルからアップロードする場合\n",
        "from google.colab import files\n",
        "import shutil\n",
        "import zipfile\n",
        "pic_dir = './pic/'\n",
        "json_dir = './json/'\n",
        "\n",
        "uploaded = files.upload()\n",
        "uploaded_file = list(uploaded.keys())[0]\n",
        "print(uploaded_file)"
      ],
      "execution_count": null,
      "outputs": []
    },
    {
      "cell_type": "code",
      "metadata": {
        "id": "1-WJhz3SsaEW",
        "colab_type": "code",
        "colab": {}
      },
      "source": [
        "#upload_file = '009999.zip'\n",
        "## GoogleDriveからコピーする場合\n",
        "from google.colab import drive\n",
        "drive_dir = '/content/drive'\n",
        "drive.mount(drive_dir)\n",
        "import shutil\n",
        "shutil.copyfile(drive_dir + '/My Drive/face_pic/' + uploaded_file, './' + uploaded_file)"
      ],
      "execution_count": null,
      "outputs": []
    },
    {
      "cell_type": "code",
      "metadata": {
        "id": "oKF83-2gROUQ",
        "colab_type": "code",
        "colab": {}
      },
      "source": [
        "_zip_dir = uploaded_file\n",
        "zip_dir = _zip_dir.split('.')\n",
        "zip_dir.pop(-1)\n",
        "zip_dir = ''.join(zip_dir)\n",
        "\n",
        "print(pic_dir + zip_dir)\n",
        "os.makedirs(pic_dir + zip_dir)\n",
        "os.makedirs(json_dir + zip_dir)\n",
        "\n",
        "with zipfile.ZipFile(uploaded_file) as existing_zip:\n",
        "    existing_zip.extractall(pic_dir + zip_dir + '/')\n",
        "\n",
        "os.remove(uploaded_file)"
      ],
      "execution_count": null,
      "outputs": []
    },
    {
      "cell_type": "code",
      "metadata": {
        "id": "u1ssxJM9JGR1",
        "colab_type": "code",
        "colab": {}
      },
      "source": [
        "! ls ./pic/202599 | wc -l"
      ],
      "execution_count": null,
      "outputs": []
    },
    {
      "cell_type": "code",
      "metadata": {
        "id": "CR9LE8svpusM",
        "colab_type": "code",
        "colab": {}
      },
      "source": [
        ""
      ],
      "execution_count": null,
      "outputs": []
    },
    {
      "cell_type": "markdown",
      "metadata": {
        "id": "Nb2cyWTzdzHY",
        "colab_type": "text"
      },
      "source": [
        "### openPose 実行（画像）"
      ]
    },
    {
      "cell_type": "code",
      "metadata": {
        "id": "1dZpVJ9fJEbo",
        "colab_type": "code",
        "colab": {}
      },
      "source": [
        "import glob\n",
        "import re\n",
        "import subprocess"
      ],
      "execution_count": null,
      "outputs": []
    },
    {
      "cell_type": "code",
      "metadata": {
        "id": "SADnBAArdxXA",
        "colab_type": "code",
        "colab": {}
      },
      "source": [
        "def open_pose(dir):\n",
        "    current_dir       = '/content'\n",
        "    change_dir       = '/openpose'\n",
        "    openpose_path = './build/examples/openpose/openpose.bin'\n",
        "    soruce_path     = '/content/pic/' + dir + '/'\n",
        "    output_path     = '/content/json/' + dir + '/'\n",
        "    res = -1\n",
        "    print('soruce_path : ' + soruce_path)\n",
        "    print('output_path : ' + output_path)\n",
        "\n",
        "    #! cd openpose && ./build/examples/openpose/openpose.bin --video ../video.mp4 --write_json ./output/ --display 0  --write_video ../openpose.avi\n",
        "    os.chdir(current_dir + change_dir)\n",
        "    print(os.getcwd())\n",
        "    print('処理画予定像数　：　' + str(len(list(glob.glob(soruce_path + '*.*')))))\n",
        "    command = openpose_path + ' --image_dir ' + soruce_path + ' --write_json ' + output_path + ' --face --hand --display 0 --render_pose 0'\n",
        "    print(command)\n",
        "    res = subprocess.call(command, shell=True)\n",
        "    print('処理済み画像数　：　' + str(len(list(glob.glob(output_path + '*.*')))))\n",
        "    os.chdir(current_dir)\n",
        "    return res\n",
        "  "
      ],
      "execution_count": null,
      "outputs": []
    },
    {
      "cell_type": "code",
      "metadata": {
        "id": "fMz0wrGkqjrk",
        "colab_type": "code",
        "colab": {}
      },
      "source": [
        "res = open_pose(zip_dir)\n",
        "print(res)"
      ],
      "execution_count": null,
      "outputs": []
    },
    {
      "cell_type": "code",
      "metadata": {
        "id": "j9eut0E-6nLS",
        "colab_type": "code",
        "colab": {}
      },
      "source": [
        ""
      ],
      "execution_count": null,
      "outputs": []
    },
    {
      "cell_type": "markdown",
      "metadata": {
        "id": "8dqPesJ2JiME",
        "colab_type": "text"
      },
      "source": [
        "### face 情報取得"
      ]
    },
    {
      "cell_type": "code",
      "metadata": {
        "id": "Yys8ogsZ4Tl1",
        "colab_type": "code",
        "colab": {}
      },
      "source": [
        "def get_face(face_dir):\n",
        "    face_list = {}\n",
        "    brn_list = sorted(list(glob.glob(face_dir + '*.*')))\n",
        "    for _brn in brn_list:\n",
        "        kp_dict_part = [''] * 5\n",
        "        with open(_brn, 'r') as json_open:\n",
        "            keypoint = json.load(json_open)\n",
        "        brn_name = re.split('\\/', _brn).pop(-1)\n",
        "        img_name = re.split('\\.', brn_name).pop(0) + '.jpg'\n",
        "        try:\n",
        "            face, eye, nose, mouth = gat_brn([keypoint['people'][0]['pose_keypoints_2d']])\n",
        "        except:\n",
        "            print('エラー ： ' + img_name)\n",
        "        kp_dict_part[0] = {'class': 'face', 'x1': int(face[0]), 'x2': int(face[2]), 'y1': int(face[1]), 'y2': int(face[3])}\n",
        "        kp_dict_part[1] = {'class': 'eye', 'x1': int(eye[0][0]), 'x2': int(eye[0][2]), 'y1': int(eye[0][1]), 'y2': int(eye[0][3])}\n",
        "        kp_dict_part[2] = {'class': 'eye', 'x1': int(eye[1][0]), 'x2': int(eye[1][2]), 'y1': int(eye[1][1]), 'y2': int(eye[1][3])}\n",
        "        kp_dict_part[3] = {'class': 'nose', 'x1': int(nose[0]), 'x2': int(nose[2]), 'y1': int(nose[1]), 'y2': int(nose[3])}\n",
        "        kp_dict_part[4] = {'class': 'mouth', 'x1': int(mouth[0]), 'x2': int(mouth[2]), 'y1': int(mouth[1]), 'y2': int(mouth[3])}\n",
        "        \n",
        "        face_list[img_name] = kp_dict_part\n",
        "\n",
        "    return face_list"
      ],
      "execution_count": null,
      "outputs": []
    },
    {
      "cell_type": "code",
      "metadata": {
        "id": "DrsYcUD8JQ3x",
        "colab_type": "code",
        "colab": {}
      },
      "source": [
        "def gat_brn(kp):\n",
        "    Nose = [kp[0][0*3], kp[0][0*3+1], 0.]\n",
        "    Neck = (kp[0][1*3], kp[0][1*3+1])\n",
        "\n",
        "    l_eye = (kp[0][14*3], kp[0][14*3+1])\n",
        "    r_eye = (kp[0][15*3], kp[0][15*3+1])\n",
        "    l_ear = (kp[0][16*3], kp[0][16*3+1])\n",
        "    r_ear = (kp[0][17*3], kp[0][17*3+1])\n",
        "    if kp[0][16*3+2] == 0.:                        # 左耳が見えない時、左耳は左目の値とする\n",
        "        l_ear = (l_eye[0], r_ear[1])\n",
        "        Nose[2] = ((l_ear[0] + r_ear[0]) / 2) - Nose[0]\n",
        "    if kp[0][17*3+2] == 0.:                        # 右耳が見えない時は、右耳は右目の値とする\n",
        "        r_ear = (r_eye[0], l_ear[1])\n",
        "        Nose[2] = ((l_ear[0] + r_ear[0]) / 2 - Nose[0])\n",
        "    _face_vert = Neck[1] - Nose[1]\n",
        "    face_vert  = _face_vert * 1.2\n",
        "    face_vert2 = face_vert / 2.\n",
        "    face_vert3 = face_vert / 3.\n",
        "    face_hori  = r_ear[0] - l_ear[0]\n",
        "    face_hori2 = face_hori / 2. * 1.3\n",
        "    _w = face_hori / 10.\n",
        "    _h = face_vert / 10.\n",
        "    \n",
        "    eye = [''] * 2\n",
        "    face   = [(Nose[0] - face_hori2) + Nose[2], Nose[1] - (face_vert2 + face_vert3), (Nose[0] + face_hori2) + Nose[2], Nose[1] + face_vert2]\n",
        "    eye[0] = [l_eye[0]-(_w*1.5), l_eye[1]-_h, l_eye[0]+(_w*1.5), l_eye[1]+_h]\n",
        "    eye[1] = [r_eye[0]-(_w*1.5), r_eye[1]-_h, r_eye[0]+(_w*1.5), r_eye[1]+_h]\n",
        "    nose   = [Nose[0]-(_w*1.5), Nose[1]-(_h*2.5), Nose[0]+(_w*1.5), Nose[1]+(_h*1.)]\n",
        "    mouth  = [Nose[0] + (Nose[2] / 2.) - (face_hori2 / 2.)\n",
        "            , Nose[1] + (face_vert3 / 2.) - _h\n",
        "            , Nose[0] + (Nose[2] / 2.) + (face_hori2 / 2.)\n",
        "            , Nose[1] + (face_vert3 / 2.) + _h * 1.5]\n",
        "\n",
        "    return face, eye, nose, mouth"
      ],
      "execution_count": null,
      "outputs": []
    },
    {
      "cell_type": "code",
      "metadata": {
        "id": "pU9Ag4ObJShP",
        "colab_type": "code",
        "colab": {}
      },
      "source": [
        "import json\n",
        "json_dir = '/content/drive/My Drive/face_json/'\n",
        "\n",
        "face_dict = get_face('/content/json/' + zip_dir + '/')\n",
        "with open(json_dir + 'celeba_' + zip_dir + '.json', 'w') as json_write:\n",
        "    json.dump(face_dict, json_write)"
      ],
      "execution_count": null,
      "outputs": []
    },
    {
      "cell_type": "code",
      "metadata": {
        "id": "bXQOy0HGCnzS",
        "colab_type": "code",
        "colab": {}
      },
      "source": [
        ""
      ],
      "execution_count": null,
      "outputs": []
    },
    {
      "cell_type": "markdown",
      "metadata": {
        "id": "I0eDzxhgJrWt",
        "colab_type": "text"
      },
      "source": [
        "### 確認等"
      ]
    },
    {
      "cell_type": "code",
      "metadata": {
        "id": "9YH9F8Nd1ekZ",
        "colab_type": "code",
        "colab": {}
      },
      "source": [
        "from IPython.display import Image,display_jpeg\n",
        "display_jpeg(Image('/content/drive/My Drive/face_pic/000001.jpg'))"
      ],
      "execution_count": null,
      "outputs": []
    },
    {
      "cell_type": "code",
      "metadata": {
        "id": "vPyO8ctB2D_2",
        "colab_type": "code",
        "colab": {}
      },
      "source": [
        ""
      ],
      "execution_count": null,
      "outputs": []
    }
  ]
}